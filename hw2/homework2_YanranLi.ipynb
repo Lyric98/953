{
  "cells": [
    {
      "cell_type": "markdown",
      "metadata": {
        "id": "U93wKjNTK5ET"
      },
      "source": [
        "# Problem 1: Modeling with ClinicalBERT Embeddings"
      ]
    },
    {
      "cell_type": "markdown",
      "metadata": {
        "id": "1gv0j1MLfBrN"
      },
      "source": [
        "Note: to avoid consuming the GPU resources allocated to you by colab on the parts you don't need a GPU for, make sure you use a CPU runtime (Runtime > Change Runtime Type > Hardware accelerator: None) until the notebook indicates otherwise."
      ]
    },
    {
      "cell_type": "markdown",
      "metadata": {
        "id": "BUmfHV_VK9g9"
      },
      "source": [
        "## Install Libraries"
      ]
    },
    {
      "cell_type": "code",
      "execution_count": 1,
      "metadata": {
        "id": "Tv3lgtR4nEsM",
        "colab": {
          "base_uri": "https://localhost:8080/"
        },
        "outputId": "14253f02-1c2c-4474-a8c1-4f3a5a902e46"
      },
      "outputs": [
        {
          "output_type": "stream",
          "name": "stdout",
          "text": [
            "Looking in indexes: https://pypi.org/simple, https://us-python.pkg.dev/colab-wheels/public/simple/\n",
            "Collecting transformers\n",
            "  Downloading transformers-4.23.1-py3-none-any.whl (5.3 MB)\n",
            "\u001b[K     |████████████████████████████████| 5.3 MB 29.0 MB/s \n",
            "\u001b[?25hCollecting tokenizers!=0.11.3,<0.14,>=0.11.1\n",
            "  Downloading tokenizers-0.13.1-cp37-cp37m-manylinux_2_17_x86_64.manylinux2014_x86_64.whl (7.6 MB)\n",
            "\u001b[K     |████████████████████████████████| 7.6 MB 53.7 MB/s \n",
            "\u001b[?25hRequirement already satisfied: numpy>=1.17 in /usr/local/lib/python3.7/dist-packages (from transformers) (1.21.6)\n",
            "Requirement already satisfied: packaging>=20.0 in /usr/local/lib/python3.7/dist-packages (from transformers) (21.3)\n",
            "Requirement already satisfied: pyyaml>=5.1 in /usr/local/lib/python3.7/dist-packages (from transformers) (6.0)\n",
            "Requirement already satisfied: tqdm>=4.27 in /usr/local/lib/python3.7/dist-packages (from transformers) (4.64.1)\n",
            "Collecting huggingface-hub<1.0,>=0.10.0\n",
            "  Downloading huggingface_hub-0.10.1-py3-none-any.whl (163 kB)\n",
            "\u001b[K     |████████████████████████████████| 163 kB 71.5 MB/s \n",
            "\u001b[?25hRequirement already satisfied: filelock in /usr/local/lib/python3.7/dist-packages (from transformers) (3.8.0)\n",
            "Requirement already satisfied: requests in /usr/local/lib/python3.7/dist-packages (from transformers) (2.23.0)\n",
            "Requirement already satisfied: regex!=2019.12.17 in /usr/local/lib/python3.7/dist-packages (from transformers) (2022.6.2)\n",
            "Requirement already satisfied: importlib-metadata in /usr/local/lib/python3.7/dist-packages (from transformers) (4.13.0)\n",
            "Requirement already satisfied: typing-extensions>=3.7.4.3 in /usr/local/lib/python3.7/dist-packages (from huggingface-hub<1.0,>=0.10.0->transformers) (4.1.1)\n",
            "Requirement already satisfied: pyparsing!=3.0.5,>=2.0.2 in /usr/local/lib/python3.7/dist-packages (from packaging>=20.0->transformers) (3.0.9)\n",
            "Requirement already satisfied: zipp>=0.5 in /usr/local/lib/python3.7/dist-packages (from importlib-metadata->transformers) (3.9.0)\n",
            "Requirement already satisfied: urllib3!=1.25.0,!=1.25.1,<1.26,>=1.21.1 in /usr/local/lib/python3.7/dist-packages (from requests->transformers) (1.24.3)\n",
            "Requirement already satisfied: idna<3,>=2.5 in /usr/local/lib/python3.7/dist-packages (from requests->transformers) (2.10)\n",
            "Requirement already satisfied: chardet<4,>=3.0.2 in /usr/local/lib/python3.7/dist-packages (from requests->transformers) (3.0.4)\n",
            "Requirement already satisfied: certifi>=2017.4.17 in /usr/local/lib/python3.7/dist-packages (from requests->transformers) (2022.9.24)\n",
            "Installing collected packages: tokenizers, huggingface-hub, transformers\n",
            "Successfully installed huggingface-hub-0.10.1 tokenizers-0.13.1 transformers-4.23.1\n",
            "Looking in indexes: https://pypi.org/simple, https://us-python.pkg.dev/colab-wheels/public/simple/\n",
            "Requirement already satisfied: scikit-learn in /usr/local/lib/python3.7/dist-packages (1.0.2)\n",
            "Requirement already satisfied: joblib>=0.11 in /usr/local/lib/python3.7/dist-packages (from scikit-learn) (1.2.0)\n",
            "Requirement already satisfied: threadpoolctl>=2.0.0 in /usr/local/lib/python3.7/dist-packages (from scikit-learn) (3.1.0)\n",
            "Requirement already satisfied: numpy>=1.14.6 in /usr/local/lib/python3.7/dist-packages (from scikit-learn) (1.21.6)\n",
            "Requirement already satisfied: scipy>=1.1.0 in /usr/local/lib/python3.7/dist-packages (from scikit-learn) (1.7.3)\n",
            "Looking in indexes: https://pypi.org/simple, https://us-python.pkg.dev/colab-wheels/public/simple/\n",
            "Collecting umap-learn\n",
            "  Downloading umap-learn-0.5.3.tar.gz (88 kB)\n",
            "\u001b[K     |████████████████████████████████| 88 kB 4.0 MB/s \n",
            "\u001b[?25hRequirement already satisfied: numpy>=1.17 in /usr/local/lib/python3.7/dist-packages (from umap-learn) (1.21.6)\n",
            "Requirement already satisfied: scikit-learn>=0.22 in /usr/local/lib/python3.7/dist-packages (from umap-learn) (1.0.2)\n",
            "Requirement already satisfied: scipy>=1.0 in /usr/local/lib/python3.7/dist-packages (from umap-learn) (1.7.3)\n",
            "Requirement already satisfied: numba>=0.49 in /usr/local/lib/python3.7/dist-packages (from umap-learn) (0.56.3)\n",
            "Collecting pynndescent>=0.5\n",
            "  Downloading pynndescent-0.5.7.tar.gz (1.1 MB)\n",
            "\u001b[K     |████████████████████████████████| 1.1 MB 32.3 MB/s \n",
            "\u001b[?25hRequirement already satisfied: tqdm in /usr/local/lib/python3.7/dist-packages (from umap-learn) (4.64.1)\n",
            "Requirement already satisfied: importlib-metadata in /usr/local/lib/python3.7/dist-packages (from numba>=0.49->umap-learn) (4.13.0)\n",
            "Requirement already satisfied: setuptools in /usr/local/lib/python3.7/dist-packages (from numba>=0.49->umap-learn) (57.4.0)\n",
            "Requirement already satisfied: llvmlite<0.40,>=0.39.0dev0 in /usr/local/lib/python3.7/dist-packages (from numba>=0.49->umap-learn) (0.39.1)\n",
            "Requirement already satisfied: joblib>=0.11 in /usr/local/lib/python3.7/dist-packages (from pynndescent>=0.5->umap-learn) (1.2.0)\n",
            "Requirement already satisfied: threadpoolctl>=2.0.0 in /usr/local/lib/python3.7/dist-packages (from scikit-learn>=0.22->umap-learn) (3.1.0)\n",
            "Requirement already satisfied: zipp>=0.5 in /usr/local/lib/python3.7/dist-packages (from importlib-metadata->numba>=0.49->umap-learn) (3.9.0)\n",
            "Requirement already satisfied: typing-extensions>=3.6.4 in /usr/local/lib/python3.7/dist-packages (from importlib-metadata->numba>=0.49->umap-learn) (4.1.1)\n",
            "Building wheels for collected packages: umap-learn, pynndescent\n",
            "  Building wheel for umap-learn (setup.py) ... \u001b[?25l\u001b[?25hdone\n",
            "  Created wheel for umap-learn: filename=umap_learn-0.5.3-py3-none-any.whl size=82829 sha256=1a36c8f0e074bc40545cd7b9953d6ffa6e77885afea7dbef1366e8a21a92594d\n",
            "  Stored in directory: /root/.cache/pip/wheels/b3/52/a5/1fd9e3e76a7ab34f134c07469cd6f16e27ef3a37aeff1fe821\n",
            "  Building wheel for pynndescent (setup.py) ... \u001b[?25l\u001b[?25hdone\n",
            "  Created wheel for pynndescent: filename=pynndescent-0.5.7-py3-none-any.whl size=54286 sha256=07dff52aa303544923c31401381d3d22ea1769a3b4bc9e08164aca9f3265fe58\n",
            "  Stored in directory: /root/.cache/pip/wheels/7f/2a/f8/7bd5dcec71bd5c669f6f574db3113513696b98f3f9b51f496c\n",
            "Successfully built umap-learn pynndescent\n",
            "Installing collected packages: pynndescent, umap-learn\n",
            "Successfully installed pynndescent-0.5.7 umap-learn-0.5.3\n"
          ]
        }
      ],
      "source": [
        "!pip install transformers\n",
        "!pip install scikit-learn\n",
        "!pip install umap-learn"
      ]
    },
    {
      "cell_type": "markdown",
      "metadata": {
        "id": "hfVoxO-7BBuA"
      },
      "source": [
        "## Setting up Google Drive\n",
        "Copy the data at the [following link](https://drive.google.com/drive/folders/1G5NuAnUSaKzcry-tzgPZKxafG_vcOzX9?usp=sharing) to a folder in your own drive and set the path to that folder below"
      ]
    },
    {
      "cell_type": "code",
      "execution_count": 2,
      "metadata": {
        "id": "hNe_F-2HBAdB"
      },
      "outputs": [],
      "source": [
        "# Path to saved data\n",
        "#------YOUR CODE HERE--------\n",
        "data_path = \"/content/drive/MyDrive/hw\"\n",
        "#------YOUR CODE ENDS--------"
      ]
    },
    {
      "cell_type": "code",
      "execution_count": 3,
      "metadata": {
        "id": "a9j60f3KrfsG",
        "colab": {
          "base_uri": "https://localhost:8080/"
        },
        "outputId": "392da3ec-3bdf-4c2b-d81d-79d465a3765c"
      },
      "outputs": [
        {
          "output_type": "stream",
          "name": "stdout",
          "text": [
            "Mounted at /content/drive\n"
          ]
        }
      ],
      "source": [
        "from google.colab import auth, drive\n",
        "drive.mount('/content/drive')\n",
        "auth.authenticate_user()"
      ]
    },
    {
      "cell_type": "code",
      "execution_count": 4,
      "metadata": {
        "id": "7qfVkr1MzXgu"
      },
      "outputs": [],
      "source": [
        "import numpy as np\n",
        "import pandas as pd\n",
        "import os \n",
        "import random\n",
        "import sklearn\n",
        "import importlib\n",
        "import pickle\n",
        "import math\n",
        "import matplotlib.pyplot as plt\n",
        "import torch\n",
        "import torch.nn as nn\n",
        "import time\n",
        "\n",
        "from pathlib import Path\n",
        "from torch.utils import data\n",
        "from tqdm.auto import tqdm\n",
        "from transformers import AutoTokenizer, AutoModel, BertConfig, BertTokenizer, BertForMaskedLM, InputExample\n",
        "\n",
        "pd.set_option('display.max_columns', 50)\n",
        "pd.options.mode.chained_assignment = None\n",
        "\n",
        "# Add random seed\n",
        "random.seed(456)\n",
        "np.random.seed(456)"
      ]
    },
    {
      "cell_type": "markdown",
      "metadata": {
        "id": "ZLNCV2jvqcpP"
      },
      "source": [
        "(a) You can read more about ClinicalBERT [here](https://huggingface.co/emilyalsentzer/Bio_ClinicalBERT)"
      ]
    },
    {
      "cell_type": "code",
      "execution_count": 5,
      "metadata": {
        "id": "sqZxtqxpMmg_",
        "colab": {
          "base_uri": "https://localhost:8080/",
          "height": 184,
          "referenced_widgets": [
            "9574df76bc6d4dc3ac4990ba96fb47e2",
            "e05f91737f574b14aa51d3b656c48977",
            "b067f212cff547a786c445a7259c9867",
            "8f980f3c8c8d438e9a1e8b5c4ca77b32",
            "2c8486f90c2e4a32b9dfefb0979afdef",
            "7413f264af0a4d47a63c354d9e1579ce",
            "b93aace1f113499d81108b1345087b7a",
            "1d0d740323dd4da99301cdb50a8cac92",
            "854d259fbce14b9c9dcaf07cb527dc80",
            "abf0a1494b5747069d8ca660c671e908",
            "4bdb3debe0d44f0f86c4866cad618c41",
            "c6fbc6e109f3410f9a8a5b25d3b92336",
            "8ae385dd0f614772b720e3c530996d4d",
            "3b3b5fe09c404e8986a27bda6deed91a",
            "ed0365e0e83b40ab98f9f56743b58893",
            "d59e36d17d014d6ea7432e88203f147a",
            "77ec7059dd87412a8de60c9d781b8fe9",
            "53e59613363545efa8adcd4ea4838b2f",
            "d036982e3bdf4475a99f5632370c9197",
            "e4bbcd1114094ee78a229ca9f80b7730",
            "61484c4a27434e71bb124ddc8c122f0c",
            "e4d23b26ca6547c292d64c52637b8889",
            "b9c74ffdf84841c38a8d559725e239b0",
            "11b1c8d789464a9abcef81579259ef3d",
            "31e13dfbebdd425083c966005e6779cd",
            "332b899fcf174f08b48ddd24e21b2274",
            "f6b3efe066ec40dbabdf43adde83e120",
            "e55d58b7c19f4e3c8bfd02917d08d410",
            "6ef98b9aab444956bc1f4ec6250890a3",
            "b0594aa9d450474a9f4389f53ce43032",
            "3eacb2f5f197445aaa37a02d575434a5",
            "9f59d19a0f9d4bc3a000b03ed3ddb4a7",
            "0938404a6609400880294d3c3bf42ddf"
          ]
        },
        "outputId": "8142553b-6a1e-467f-84a4-817a629a5751"
      },
      "outputs": [
        {
          "output_type": "display_data",
          "data": {
            "text/plain": [
              "Downloading:   0%|          | 0.00/213k [00:00<?, ?B/s]"
            ],
            "application/vnd.jupyter.widget-view+json": {
              "version_major": 2,
              "version_minor": 0,
              "model_id": "9574df76bc6d4dc3ac4990ba96fb47e2"
            }
          },
          "metadata": {}
        },
        {
          "output_type": "display_data",
          "data": {
            "text/plain": [
              "Downloading:   0%|          | 0.00/385 [00:00<?, ?B/s]"
            ],
            "application/vnd.jupyter.widget-view+json": {
              "version_major": 2,
              "version_minor": 0,
              "model_id": "c6fbc6e109f3410f9a8a5b25d3b92336"
            }
          },
          "metadata": {}
        },
        {
          "output_type": "display_data",
          "data": {
            "text/plain": [
              "Downloading:   0%|          | 0.00/436M [00:00<?, ?B/s]"
            ],
            "application/vnd.jupyter.widget-view+json": {
              "version_major": 2,
              "version_minor": 0,
              "model_id": "b9c74ffdf84841c38a8d559725e239b0"
            }
          },
          "metadata": {}
        },
        {
          "output_type": "stream",
          "name": "stderr",
          "text": [
            "Some weights of the model checkpoint at emilyalsentzer/Bio_ClinicalBERT were not used when initializing BertForMaskedLM: ['cls.seq_relationship.bias', 'cls.seq_relationship.weight']\n",
            "- This IS expected if you are initializing BertForMaskedLM from the checkpoint of a model trained on another task or with another architecture (e.g. initializing a BertForSequenceClassification model from a BertForPreTraining model).\n",
            "- This IS NOT expected if you are initializing BertForMaskedLM from the checkpoint of a model that you expect to be exactly identical (initializing a BertForSequenceClassification model from a BertForSequenceClassification model).\n"
          ]
        }
      ],
      "source": [
        "#------YOUR CODE HERE--------\n",
        "# Initialize the tokenizer\n",
        "tokenizer = BertTokenizer.from_pretrained(\"emilyalsentzer/Bio_ClinicalBERT\")\n",
        "\n",
        "# Initialize the model\n",
        "model = BertForMaskedLM.from_pretrained(\"emilyalsentzer/Bio_ClinicalBERT\") \n",
        "#------YOUR CODE ENDS--------"
      ]
    },
    {
      "cell_type": "code",
      "execution_count": 6,
      "metadata": {
        "id": "J1v0gkPstnaG"
      },
      "outputs": [],
      "source": [
        "device = torch.device(\"cuda\" if torch.cuda.is_available() else \"cpu\")"
      ]
    },
    {
      "cell_type": "code",
      "source": [
        "device"
      ],
      "metadata": {
        "colab": {
          "base_uri": "https://localhost:8080/"
        },
        "id": "AqJFwBhsDz7H",
        "outputId": "3c0a3e37-6b00-4641-9cdd-fa0708796cc5"
      },
      "execution_count": 7,
      "outputs": [
        {
          "output_type": "execute_result",
          "data": {
            "text/plain": [
              "device(type='cuda')"
            ]
          },
          "metadata": {},
          "execution_count": 7
        }
      ]
    },
    {
      "cell_type": "markdown",
      "metadata": {
        "id": "mEjK57qaLCV7"
      },
      "source": [
        "(b)"
      ]
    },
    {
      "cell_type": "code",
      "execution_count": 8,
      "metadata": {
        "id": "k9RM0cJxTVTe"
      },
      "outputs": [],
      "source": [
        "def fill_blank(text: str, model: BertForMaskedLM, tokenizer: BertTokenizer) -> str:\n",
        "    '''\n",
        "    Given a sentence with a single blank (denoted by an underscore), queries the BERT model to \n",
        "        fill in the missing token.\n",
        "        \n",
        "    Inputs:\n",
        "        - text: sentence containing a single underscore corresponding to the missing token\n",
        "        - model: pytorch ClinicalBERT model, of type BertForMaskedLM\n",
        "        - tokenizer: BertTokenizer object\n",
        "    \n",
        "    Output:\n",
        "        - string corresponding to the sentence where the underscore is replaced with the most likely token\n",
        "    '''\n",
        "    random.seed(456)\n",
        "    np.random.seed(456)\n",
        "    torch.manual_seed(456)\n",
        "    \n",
        "    #------YOUR CODE HERE--------\n",
        "    # Replace the underscore by [MASK] and store the result in masked_str\n",
        "    masked_str = text.replace(\"_\", \"[MASK]\") \n",
        "\n",
        "    # Tokenize the masked string and store the tokens in inputs\n",
        "    inputs = tokenizer(masked_str, return_tensors=\"pt\")\n",
        "    #------YOUR CODE ENDS--------\n",
        "\n",
        "    inputs = inputs.to(device)\n",
        "    model=model.to(device)\n",
        "    with torch.no_grad():\n",
        "        #------YOUR CODE HERE--------\n",
        "        # Compute the logits (log probabilities) from the model\n",
        "        logits =  model(**inputs)[0]    \n",
        "        #------YOUR CODE ENDS--------\n",
        "\n",
        "    mask_token_index = (inputs.input_ids == tokenizer.mask_token_id)[0].nonzero(as_tuple=True)[0]\n",
        "\n",
        "    predicted_logits = logits[0, mask_token_index] \n",
        "    #------YOUR CODE HERE--------\n",
        "    # Select the most likely token in predicted_logits\n",
        "    predicted_token_id = torch.argmax(predicted_logits).item()\n",
        "\n",
        "    # Use the tokenizer to decode the token id into a string\n",
        "    pred = tokenizer.convert_ids_to_tokens([predicted_token_id])[0]\n",
        "    #------YOUR CODE ENDS--------\n",
        "\n",
        "    return text.replace('_', pred)"
      ]
    },
    {
      "cell_type": "code",
      "execution_count": 9,
      "metadata": {
        "id": "hwadavOxsn7v",
        "colab": {
          "base_uri": "https://localhost:8080/"
        },
        "outputId": "f44f9da8-2c48-478e-e785-4e32b65d0702"
      },
      "outputs": [
        {
          "output_type": "stream",
          "name": "stdout",
          "text": [
            "Predicted sentence: 30 yo white female helping other nurses at the ICU\n",
            "Expected sentence: 30 yo white female helping other nurses at the ICU\n",
            "Predicted sentence: 30 yo white male helping other doctors at the ICU\n",
            "Expected sentence: 30 yo white male helping other doctors at the ICU\n"
          ]
        }
      ],
      "source": [
        "# Test fill_blank\n",
        "nurse_sent = '30 yo white _ helping other nurses at the ICU'\n",
        "doc_sent = '30 yo white _ helping other doctors at the ICU'\n",
        "print(f\"Predicted sentence: {fill_blank(nurse_sent, model, tokenizer)}\")\n",
        "print(\"Expected sentence: 30 yo white female helping other nurses at the ICU\")\n",
        "print(f\"Predicted sentence: {fill_blank(doc_sent, model, tokenizer)}\")\n",
        "print(\"Expected sentence: 30 yo white male helping other doctors at the ICU\")"
      ]
    },
    {
      "cell_type": "markdown",
      "metadata": {
        "id": "lReDVacVwAPU"
      },
      "source": [
        "(c)"
      ]
    },
    {
      "cell_type": "code",
      "execution_count": 10,
      "metadata": {
        "id": "yxnT3yzFwSFL",
        "colab": {
          "base_uri": "https://localhost:8080/"
        },
        "outputId": "e45e2293-427a-4b97-886e-2c40c3682496"
      },
      "outputs": [
        {
          "output_type": "stream",
          "name": "stdout",
          "text": [
            "Sentence 1 (completed): The renal dysfunction score changes over time among the black African population.\n",
            "Sentence 2 (completed): The cardiovascular dysfunction score changes over time among the elderly women population.\n"
          ]
        }
      ],
      "source": [
        "#------YOUR CODE HERE--------\n",
        "sent1 = 'The renal dysfunction score changes over time among the black _ population.'\n",
        "sent2 = 'The cardiovascular dysfunction score changes over time among the _ women population.'\n",
        "#------YOUR CODE ENDS--------\n",
        "print(f\"Sentence 1 (completed): {fill_blank(sent1, model, tokenizer)}\")\n",
        "print(f\"Sentence 2 (completed): {fill_blank(sent2, model, tokenizer)}\")"
      ]
    },
    {
      "cell_type": "markdown",
      "metadata": {
        "id": "4XX3lVy3xDAm"
      },
      "source": [
        "(d) Answer in your report"
      ]
    },
    {
      "cell_type": "markdown",
      "metadata": {
        "id": "4bcW_vqkxfYR"
      },
      "source": [
        "(e)"
      ]
    },
    {
      "cell_type": "markdown",
      "metadata": {
        "id": "p87qzrBG1wOH"
      },
      "source": [
        "Change the runtime to GPU for this part (Runtime > Change Runtime Type > Hardware Accelerator: GPU)"
      ]
    },
    {
      "cell_type": "code",
      "execution_count": 11,
      "metadata": {
        "id": "OPLJobKBp1n3"
      },
      "outputs": [],
      "source": [
        "# Load the data\n",
        "df = pd.read_hdf(os.path.join(data_path, \"text_and_hypertension_data.h5\"))"
      ]
    },
    {
      "cell_type": "code",
      "execution_count": 12,
      "metadata": {
        "id": "tvYSo6JQtZW3"
      },
      "outputs": [],
      "source": [
        "def get_sent_rep(model, tokenizer, txt):\n",
        "    \"\"\"\n",
        "    Compute the sentence representation and return it as a numpy array\n",
        "    If done correctly, the numpy array should be of size 768\n",
        "    \"\"\"\n",
        "    # Tokenize the input txt and store the result in inputs\n",
        "    # Remember to set truncation=True and max_length=512\n",
        "    #------YOUR CODE HERE--------\n",
        "    inputs = tokenizer(txt, return_tensors=\"pt\", truncation=True, max_length=512)\n",
        "    #------YOUR CODE ENDS--------\n",
        "    inputs=inputs.to(device)\n",
        "    model=model.to(device)\n",
        "    with torch.no_grad():\n",
        "        #------YOUR CODE HERE--------\n",
        "        # Compute the model outputs and store the result in outputs\n",
        "        # Make sure output_hidden_states=True\n",
        "        outputs = model(**inputs, output_hidden_states=True) \n",
        "        #------YOUR CODE ENDS--------\n",
        "    \n",
        "        embed = outputs.hidden_states[-1]\n",
        "\n",
        "        #------YOUR CODE HERE--------\n",
        "        # embed (of size [1, input_length, 768])\n",
        "        # contains the hidden states corresponding to each\n",
        "        # token at the final layer of the model\n",
        "        # Each hidden state is a vector of size 768\n",
        "        # Compute the mean of these vectors to get a representation\n",
        "        # of the input sentence, and store the mean again in embed\n",
        "        embed = torch.mean(embed, dim=1)\n",
        "        #------YOUR CODE ENDS--------\n",
        "\n",
        "        embed = embed.squeeze()\n",
        "\n",
        "    return embed.cpu().detach().numpy()"
      ]
    },
    {
      "cell_type": "markdown",
      "metadata": {
        "id": "eteA2T5q5D89"
      },
      "source": [
        "The following block of code should take around 15min to run on a GPU the first time it is run. Make sure to save its result in your drive to avoid needing to run it again"
      ]
    },
    {
      "cell_type": "code",
      "execution_count": 13,
      "metadata": {
        "id": "U-wPQFJxPKAs"
      },
      "outputs": [],
      "source": [
        "recompute_embeds = False\n",
        "# Only regenerate embeds if necessary\n",
        "if not os.path.exists(os.path.join(data_path, \"embeds.npy\")) or recompute_embeds == True:\n",
        "    # Generate embeddings\n",
        "    num_pts = len(df)\n",
        "    embeds = [None]* num_pts\n",
        "    start = time.time()\n",
        "    for row_idx in range(num_pts):\n",
        "        note_data = df.iloc[row_idx][\"text\"]\n",
        "        embeds[row_idx] = get_sent_rep(model, tokenizer, note_data)\n",
        "    print(time.time() - start)\n",
        "    X = np.stack(embeds, axis=0)\n",
        "    with open(os.path.join(data_path, \"embeds.npy\"), \"wb\") as f:\n",
        "        np.save(f, X)"
      ]
    },
    {
      "cell_type": "markdown",
      "metadata": {
        "id": "UhqQP6_O6U8s"
      },
      "source": [
        "(f)"
      ]
    },
    {
      "cell_type": "markdown",
      "metadata": {
        "id": "EwoanXGrHXNz"
      },
      "source": [
        "You can change the runtime back to CPU to avoid using your GPU allocation"
      ]
    },
    {
      "cell_type": "code",
      "execution_count": 14,
      "metadata": {
        "id": "7jvUc6PJ_dCY"
      },
      "outputs": [],
      "source": [
        "from sklearn.model_selection import train_test_split\n",
        "\n",
        "# Get train and test data\n",
        "with open(os.path.join(data_path, \"embeds.npy\"), \"rb\") as f:\n",
        "    # X contains one embedding per row corresponding to\n",
        "    # the discharge summary of the patient in that row\n",
        "    # in the dataset\n",
        "    X = np.load(f)\n",
        "\n",
        "# y contains whether the patient in a particular row had\n",
        "# hypertension during their ICU stay\n",
        "y = df['Hypertension'].tolist()\n",
        "\n",
        "X_train, X_test, y_train, y_test = train_test_split(X, y, test_size=0.25, random_state=456)"
      ]
    },
    {
      "cell_type": "code",
      "execution_count": 15,
      "metadata": {
        "id": "U95_xwRXlMUo"
      },
      "outputs": [],
      "source": [
        "from sklearn.preprocessing import StandardScaler\n",
        "from sklearn.linear_model import LogisticRegression\n",
        "\n",
        "# Scale the train data\n",
        "scaler = StandardScaler()\n",
        "scaler.fit(X_train)\n",
        "X_train_scaled = scaler.transform(X_train)"
      ]
    },
    {
      "cell_type": "code",
      "execution_count": 16,
      "metadata": {
        "id": "Kcf-lDpoYnTJ",
        "colab": {
          "base_uri": "https://localhost:8080/"
        },
        "outputId": "3e09e3d2-7b9d-4fbb-bb53-9cb1ae92aa20"
      },
      "outputs": [
        {
          "output_type": "stream",
          "name": "stderr",
          "text": [
            "/usr/local/lib/python3.7/dist-packages/sklearn/linear_model/_logistic.py:818: ConvergenceWarning: lbfgs failed to converge (status=1):\n",
            "STOP: TOTAL NO. of ITERATIONS REACHED LIMIT.\n",
            "\n",
            "Increase the number of iterations (max_iter) or scale the data as shown in:\n",
            "    https://scikit-learn.org/stable/modules/preprocessing.html\n",
            "Please also refer to the documentation for alternative solver options:\n",
            "    https://scikit-learn.org/stable/modules/linear_model.html#logistic-regression\n",
            "  extra_warning_msg=_LOGISTIC_SOLVER_CONVERGENCE_MSG,\n"
          ]
        },
        {
          "output_type": "execute_result",
          "data": {
            "text/plain": [
              "LogisticRegression(class_weight='balanced', multi_class='multinomial',\n",
              "                   random_state=42)"
            ]
          },
          "metadata": {},
          "execution_count": 16
        }
      ],
      "source": [
        "#------YOUR CODE HERE--------\n",
        "# Create and fit your logistic regression model on the training data\n",
        "# Make sure to use multi_class = \"multinomial\" and class_weight=\"balanced\"\n",
        "\n",
        "LR_model = LogisticRegression(multi_class = \"multinomial\", class_weight=\"balanced\", random_state=42)\n",
        "LR_model.fit(X_train_scaled, y_train)\n",
        "\n",
        "\n",
        "#------YOUR CODE ENDS--------\n"
      ]
    },
    {
      "cell_type": "markdown",
      "metadata": {
        "id": "CmjRSWlq9oRw"
      },
      "source": [
        "(g)"
      ]
    },
    {
      "cell_type": "code",
      "execution_count": 17,
      "metadata": {
        "id": "FgEyht5id7sI"
      },
      "outputs": [],
      "source": [
        "from sklearn.metrics import f1_score, precision_score, recall_score, accuracy_score\n",
        "#------YOUR CODE HERE--------\n",
        "# Compute the performance metrics on the training set\n",
        "\n",
        "#Compute the accuracy\n",
        "train_acc = accuracy_score(y_train, LR_model.predict(X_train_scaled))\n",
        "#test_acc = accuracy_score(y_test, LR_model.predict(scaler.transform(X_test)))\n",
        "#precision\n",
        "train_precision = precision_score(y_train, LR_model.predict(X_train_scaled), average=None)\n",
        "#test_precision = precision_score(y_test, LR_model.predict(scaler.transform(X_te#st)), average=None)\n",
        "# recall\n",
        "train_recall = recall_score(y_train, LR_model.predict(X_train_scaled), average=None)\n",
        "#test_recall = recall_score(y_test, LR_model.predict(scaler.transform(X_test)), average=None)\n",
        "# F1-score \n",
        "train_f1 = f1_score(y_train, LR_model.predict(X_train_scaled), average=None)\n",
        "#test_f1 = f1_score(y_test, LR_model.predict(scaler.transform(X_test)), average=None)\n",
        "\n",
        "\n",
        "\n",
        "\n",
        "#------YOUR CODE ENDS--------"
      ]
    },
    {
      "cell_type": "code",
      "execution_count": 18,
      "metadata": {
        "id": "irLR523pDKFI"
      },
      "outputs": [],
      "source": [
        "# Scale the test data\n",
        "X_test_scaled = scaler.transform(X_test)"
      ]
    },
    {
      "cell_type": "code",
      "execution_count": 19,
      "metadata": {
        "id": "oXKVHVJjDPFc",
        "colab": {
          "base_uri": "https://localhost:8080/",
          "height": 111
        },
        "outputId": "56a711ac-ecde-468c-ff4e-8a1d38db4c19"
      },
      "outputs": [
        {
          "output_type": "display_data",
          "data": {
            "text/plain": [
              "       Accuracy                                 Precision  \\\n",
              "Train    0.7068  [0.7571583346231233, 0.6517101252963088]   \n",
              "Test   0.652438  [0.7087155963302753, 0.5892949047864128]   \n",
              "\n",
              "                                         Recall  \\\n",
              "Train  [0.7039861850625989, 0.7104097452934662]   \n",
              "Test   [0.6594110115236875, 0.6432584269662921]   \n",
              "\n",
              "                                       F1-score  \n",
              "Train  [0.7296047725577927, 0.6797951253973861]  \n",
              "Test    [0.6831748839265973, 0.615095353209777]  "
            ],
            "text/html": [
              "\n",
              "  <div id=\"df-92fcf78a-f932-4d2c-be78-55988b4cc6b9\">\n",
              "    <div class=\"colab-df-container\">\n",
              "      <div>\n",
              "<style scoped>\n",
              "    .dataframe tbody tr th:only-of-type {\n",
              "        vertical-align: middle;\n",
              "    }\n",
              "\n",
              "    .dataframe tbody tr th {\n",
              "        vertical-align: top;\n",
              "    }\n",
              "\n",
              "    .dataframe thead th {\n",
              "        text-align: right;\n",
              "    }\n",
              "</style>\n",
              "<table border=\"1\" class=\"dataframe\">\n",
              "  <thead>\n",
              "    <tr style=\"text-align: right;\">\n",
              "      <th></th>\n",
              "      <th>Accuracy</th>\n",
              "      <th>Precision</th>\n",
              "      <th>Recall</th>\n",
              "      <th>F1-score</th>\n",
              "    </tr>\n",
              "  </thead>\n",
              "  <tbody>\n",
              "    <tr>\n",
              "      <th>Train</th>\n",
              "      <td>0.7068</td>\n",
              "      <td>[0.7571583346231233, 0.6517101252963088]</td>\n",
              "      <td>[0.7039861850625989, 0.7104097452934662]</td>\n",
              "      <td>[0.7296047725577927, 0.6797951253973861]</td>\n",
              "    </tr>\n",
              "    <tr>\n",
              "      <th>Test</th>\n",
              "      <td>0.652438</td>\n",
              "      <td>[0.7087155963302753, 0.5892949047864128]</td>\n",
              "      <td>[0.6594110115236875, 0.6432584269662921]</td>\n",
              "      <td>[0.6831748839265973, 0.615095353209777]</td>\n",
              "    </tr>\n",
              "  </tbody>\n",
              "</table>\n",
              "</div>\n",
              "      <button class=\"colab-df-convert\" onclick=\"convertToInteractive('df-92fcf78a-f932-4d2c-be78-55988b4cc6b9')\"\n",
              "              title=\"Convert this dataframe to an interactive table.\"\n",
              "              style=\"display:none;\">\n",
              "        \n",
              "  <svg xmlns=\"http://www.w3.org/2000/svg\" height=\"24px\"viewBox=\"0 0 24 24\"\n",
              "       width=\"24px\">\n",
              "    <path d=\"M0 0h24v24H0V0z\" fill=\"none\"/>\n",
              "    <path d=\"M18.56 5.44l.94 2.06.94-2.06 2.06-.94-2.06-.94-.94-2.06-.94 2.06-2.06.94zm-11 1L8.5 8.5l.94-2.06 2.06-.94-2.06-.94L8.5 2.5l-.94 2.06-2.06.94zm10 10l.94 2.06.94-2.06 2.06-.94-2.06-.94-.94-2.06-.94 2.06-2.06.94z\"/><path d=\"M17.41 7.96l-1.37-1.37c-.4-.4-.92-.59-1.43-.59-.52 0-1.04.2-1.43.59L10.3 9.45l-7.72 7.72c-.78.78-.78 2.05 0 2.83L4 21.41c.39.39.9.59 1.41.59.51 0 1.02-.2 1.41-.59l7.78-7.78 2.81-2.81c.8-.78.8-2.07 0-2.86zM5.41 20L4 18.59l7.72-7.72 1.47 1.35L5.41 20z\"/>\n",
              "  </svg>\n",
              "      </button>\n",
              "      \n",
              "  <style>\n",
              "    .colab-df-container {\n",
              "      display:flex;\n",
              "      flex-wrap:wrap;\n",
              "      gap: 12px;\n",
              "    }\n",
              "\n",
              "    .colab-df-convert {\n",
              "      background-color: #E8F0FE;\n",
              "      border: none;\n",
              "      border-radius: 50%;\n",
              "      cursor: pointer;\n",
              "      display: none;\n",
              "      fill: #1967D2;\n",
              "      height: 32px;\n",
              "      padding: 0 0 0 0;\n",
              "      width: 32px;\n",
              "    }\n",
              "\n",
              "    .colab-df-convert:hover {\n",
              "      background-color: #E2EBFA;\n",
              "      box-shadow: 0px 1px 2px rgba(60, 64, 67, 0.3), 0px 1px 3px 1px rgba(60, 64, 67, 0.15);\n",
              "      fill: #174EA6;\n",
              "    }\n",
              "\n",
              "    [theme=dark] .colab-df-convert {\n",
              "      background-color: #3B4455;\n",
              "      fill: #D2E3FC;\n",
              "    }\n",
              "\n",
              "    [theme=dark] .colab-df-convert:hover {\n",
              "      background-color: #434B5C;\n",
              "      box-shadow: 0px 1px 3px 1px rgba(0, 0, 0, 0.15);\n",
              "      filter: drop-shadow(0px 1px 2px rgba(0, 0, 0, 0.3));\n",
              "      fill: #FFFFFF;\n",
              "    }\n",
              "  </style>\n",
              "\n",
              "      <script>\n",
              "        const buttonEl =\n",
              "          document.querySelector('#df-92fcf78a-f932-4d2c-be78-55988b4cc6b9 button.colab-df-convert');\n",
              "        buttonEl.style.display =\n",
              "          google.colab.kernel.accessAllowed ? 'block' : 'none';\n",
              "\n",
              "        async function convertToInteractive(key) {\n",
              "          const element = document.querySelector('#df-92fcf78a-f932-4d2c-be78-55988b4cc6b9');\n",
              "          const dataTable =\n",
              "            await google.colab.kernel.invokeFunction('convertToInteractive',\n",
              "                                                     [key], {});\n",
              "          if (!dataTable) return;\n",
              "\n",
              "          const docLinkHtml = 'Like what you see? Visit the ' +\n",
              "            '<a target=\"_blank\" href=https://colab.research.google.com/notebooks/data_table.ipynb>data table notebook</a>'\n",
              "            + ' to learn more about interactive tables.';\n",
              "          element.innerHTML = '';\n",
              "          dataTable['output_type'] = 'display_data';\n",
              "          await google.colab.output.renderOutput(dataTable, element);\n",
              "          const docLink = document.createElement('div');\n",
              "          docLink.innerHTML = docLinkHtml;\n",
              "          element.appendChild(docLink);\n",
              "        }\n",
              "      </script>\n",
              "    </div>\n",
              "  </div>\n",
              "  "
            ]
          },
          "metadata": {}
        }
      ],
      "source": [
        "#------YOUR CODE HERE--------\n",
        "# Compute the performance metrics on the test set\n",
        "\n",
        "#Compute the accuracy\n",
        "test_acc = accuracy_score(y_test, LR_model.predict(X_test_scaled))\n",
        "\n",
        "#precision\n",
        "test_precision = precision_score(y_test, LR_model.predict(X_test_scaled), average=None)\n",
        "# recall\n",
        "test_recall = recall_score(y_test, LR_model.predict(X_test_scaled), average=None)\n",
        "# F1-score \n",
        "test_f1 = f1_score(y_test, LR_model.predict(X_test_scaled), average=None)\n",
        "\n",
        "\n",
        "\n",
        "metric_dic={'Train': [train_acc, train_precision, train_recall, train_f1], 'Test': [test_acc, test_precision, test_recall, test_f1]}\n",
        "metric_dic = pd.DataFrame(metric_dic, index=['Accuracy', 'Precision', 'Recall', 'F1-score']).T\n",
        "display(metric_dic)\n",
        "\n",
        "\n",
        "#------YOUR CODE HERE--------"
      ]
    },
    {
      "cell_type": "markdown",
      "metadata": {
        "id": "OYzN-ef390B7"
      },
      "source": [
        "(h)"
      ]
    },
    {
      "cell_type": "code",
      "execution_count": 20,
      "metadata": {
        "id": "fUBiL55gJjLT"
      },
      "outputs": [],
      "source": [
        "from umap import UMAP"
      ]
    },
    {
      "cell_type": "code",
      "execution_count": 21,
      "metadata": {
        "id": "o6XaGQBlJlsg"
      },
      "outputs": [],
      "source": [
        "#------YOUR CODE HERE--------\n",
        "# Use UMAP to project the scaled training data onto two dimensions\n",
        "# Make sure to use random_state=456\n",
        "n_neighbors = 20\n",
        "min_dist = .1\n",
        "UMAP_model = UMAP(random_state=456, n_neighbors=n_neighbors, min_dist=min_dist,metric = 'euclidean')\n",
        "train_embed = UMAP_model.fit_transform(X_train_scaled)\n",
        "\n",
        "#------YOUR CODE ENDS--------"
      ]
    },
    {
      "cell_type": "code",
      "execution_count": 22,
      "metadata": {
        "id": "xM4BPqFGLqz1",
        "colab": {
          "base_uri": "https://localhost:8080/",
          "height": 281
        },
        "outputId": "043be9e0-df29-4160-89dc-a2a652d19712"
      },
      "outputs": [
        {
          "output_type": "display_data",
          "data": {
            "text/plain": [
              "<Figure size 432x288 with 1 Axes>"
            ],
            "image/png": "[encoded data removed]"
          },
          "metadata": {
            "needs_background": "light"
          }
        }
      ],
      "source": [
        "import matplotlib.pyplot as plt\n",
        "#------YOUR CODE HERE--------\n",
        "# Plot the UMAP embeddings on a scatter plot\n",
        "\n",
        "\n",
        "plt.scatter(train_embed[:,0], train_embed[:,1], \n",
        "            c=y_train, \n",
        "            cmap='Spectral',\n",
        "            s=.5)\n",
        "plt.title(\"n_neighbors = {}, min_dist = {}\".format(n_neighbors, min_dist))#label = ['No Hypertension', 'Hypertension']\n",
        "plt.show()\n",
        "\n",
        "\n",
        "\n",
        "#------YOUR CODE ENDS--------"
      ]
    },
    {
      "cell_type": "code",
      "execution_count": 23,
      "metadata": {
        "id": "PnG1IehU-uQ5"
      },
      "outputs": [],
      "source": [
        "#------YOUR CODE HERE--------\n",
        "# Use UMAP to project the scaled test data onto two dimensions\n",
        "# Make sure to use random_state=456\n",
        "n_neighbors = 24\n",
        "min_dist = .11\n",
        "UMAP_model = UMAP(random_state=456, n_neighbors=n_neighbors, min_dist=min_dist,metric = 'euclidean')\n",
        "test_embed = UMAP_model.fit_transform(X_test_scaled)\n",
        "\n",
        "\n",
        "\n",
        "#------YOUR CODE ENDS--------"
      ]
    },
    {
      "cell_type": "code",
      "execution_count": 24,
      "metadata": {
        "id": "S34GqU9Y-uQ6",
        "colab": {
          "base_uri": "https://localhost:8080/",
          "height": 281
        },
        "outputId": "2e32f88f-96d0-4659-a2e0-4bce58023f1d"
      },
      "outputs": [
        {
          "output_type": "display_data",
          "data": {
            "text/plain": [
              "<Figure size 432x288 with 1 Axes>"
            ],
            "image/png": "[encoded data removed]"
          },
          "metadata": {
            "needs_background": "light"
          }
        }
      ],
      "source": [
        "#------YOUR CODE HERE--------\n",
        "# Plot the UMAP embeddings on a scatter plot\n",
        "\n",
        "\n",
        "\n",
        "plt.scatter(test_embed[:,0], test_embed[:,1], \n",
        "            c=y_test, \n",
        "            cmap='Spectral',\n",
        "            s=.5)\n",
        "plt.title(\"n_neighbors = {}, min_dist = {}\".format(n_neighbors, min_dist))#label = ['No Hypertension', 'Hypertension']\n",
        "plt.show()\n",
        "\n",
        "\n",
        "\n",
        "#------YOUR CODE ENDS--------"
      ]
    },
    {
      "cell_type": "markdown",
      "metadata": {
        "id": "plsPZnjI_IOI"
      },
      "source": [
        "(i) Answer in your report"
      ]
    },
    {
      "cell_type": "markdown",
      "metadata": {
        "id": "Jg0jl8JE_QKC"
      },
      "source": [
        "(j)"
      ]
    },
    {
      "cell_type": "code",
      "execution_count": 25,
      "metadata": {
        "id": "yCgQWLHrQd1K"
      },
      "outputs": [],
      "source": [
        "from sklearn.discriminant_analysis import LinearDiscriminantAnalysis"
      ]
    },
    {
      "cell_type": "code",
      "execution_count": 26,
      "metadata": {
        "id": "fzUPm8HDRPfI"
      },
      "outputs": [],
      "source": [
        "#------YOUR CODE HERE--------\n",
        "# Use LDA to project the scaled training data onto a single dimension\n",
        "\n",
        "lda_model = LinearDiscriminantAnalysis()\n",
        "train_lda = lda_model.fit(X_train_scaled, y_train).transform(X_train_scaled).flatten()\n",
        "\n",
        "\n",
        "#------YOUR CODE ENDS--------"
      ]
    },
    {
      "cell_type": "code",
      "execution_count": 27,
      "metadata": {
        "id": "4NFllfE7RxfL",
        "colab": {
          "base_uri": "https://localhost:8080/",
          "height": 295
        },
        "outputId": "599ccbf9-c00a-4c1e-810d-6e9cbcf51635"
      },
      "outputs": [
        {
          "output_type": "display_data",
          "data": {
            "text/plain": [
              "<Figure size 432x288 with 1 Axes>"
            ],
            "image/png": "[encoded data removed]"
          },
          "metadata": {
            "needs_background": "light"
          }
        }
      ],
      "source": [
        "#------YOUR CODE HERE--------\n",
        "# Plot the LDA embeddings on two histograms on the same plot\n",
        "no_hyper = train_lda[np.where(np.array(y_train) == 0)]\n",
        "hyper = train_lda[np.where(np.array(y_train) == 1)]\n",
        "\n",
        "plt.hist(no_hyper, bins=100, alpha=0.5, label='No Hypertension')\n",
        "plt.hist(hyper, bins=100, alpha=0.5, label='Hypertension')\n",
        "plt.xlabel('LDA Embedding')\n",
        "plt.ylabel('Count')\n",
        "plt.title('LDA Embeddings')\n",
        "plt.legend(loc='upper right')\n",
        "plt.show()\n",
        "\n",
        "\n",
        "\n",
        "#------YOUR CODE ENDS--------"
      ]
    },
    {
      "cell_type": "code",
      "execution_count": 28,
      "metadata": {
        "id": "oG4OWQEf_hXT"
      },
      "outputs": [],
      "source": [
        "#------YOUR CODE HERE--------\n",
        "# Use LDA to project the scaled test data onto a single dimension\n",
        "\n",
        "\n",
        "test_lda = lda_model.fit(X_test_scaled, y_test).transform(X_test_scaled).flatten()\n",
        "\n",
        "#------YOUR CODE ENDS--------"
      ]
    },
    {
      "cell_type": "code",
      "execution_count": 29,
      "metadata": {
        "id": "LBOb16cu_hXT",
        "colab": {
          "base_uri": "https://localhost:8080/",
          "height": 295
        },
        "outputId": "323b7e44-0c48-4d50-eaad-839b7629c8b5"
      },
      "outputs": [
        {
          "output_type": "display_data",
          "data": {
            "text/plain": [
              "<Figure size 432x288 with 1 Axes>"
            ],
            "image/png": "[encoded data removed]"
          },
          "metadata": {
            "needs_background": "light"
          }
        }
      ],
      "source": [
        "#------YOUR CODE HERE--------\n",
        "# Plot the LDA embeddings on two histograms on the same plot\n",
        "\n",
        "\n",
        "no_hyper = test_lda[np.where(np.array(y_test) == 0)]\n",
        "hyper = test_lda[np.where(np.array(y_test) == 1)]\n",
        "\n",
        "plt.hist(no_hyper, bins=100, alpha=0.5, label='No Hypertension')\n",
        "plt.hist(hyper, bins=100, alpha=0.5, label='Hypertension')\n",
        "plt.xlabel('LDA Embedding')\n",
        "plt.ylabel('Count')\n",
        "plt.title('LDA Embeddings')\n",
        "plt.legend(loc='upper right')\n",
        "plt.show()\n",
        "\n",
        "\n",
        "#------YOUR CODE ENDS--------"
      ]
    },
    {
      "cell_type": "markdown",
      "metadata": {
        "id": "2D6ON4n6_w9K"
      },
      "source": [
        "(k) Answer in your report"
      ]
    },
    {
      "cell_type": "markdown",
      "metadata": {
        "id": "ZtjpRNZD_y8N"
      },
      "source": [
        "(l) Answer in your report"
      ]
    }
  ],
  "metadata": {
    "colab": {
      "collapsed_sections": [],
      "provenance": []
    },
    "gpuClass": "standard",
    "kernelspec": {
      "display_name": "Python 3.8.8 ('base')",
      "language": "python",
      "name": "python3"
    },
    "language_info": {
      "codemirror_mode": {
        "name": "ipython",
        "version": 3
      },
      "file_extension": ".py",
      "mimetype": "text/x-python",
      "name": "python",
      "nbconvert_exporter": "python",
      "pygments_lexer": "ipython3",
      "version": "3.8.8"
    },
    "vscode": {
      "interpreter": {
        "hash": "816c00cb99d28fa964dcb8a0ec0763ff6c9749e85b2c40862bb8651e31a9cffc"
      }
    },
    "accelerator": "GPU",
    "widgets": {
      "application/vnd.jupyter.widget-state+json": {
        "9574df76bc6d4dc3ac4990ba96fb47e2": {
          "model_module": "@jupyter-widgets/controls",
          "model_name": "HBoxModel",
          "model_module_version": "1.5.0",
          "state": {
            "_dom_classes": [],
            "_model_module": "@jupyter-widgets/controls",
            "_model_module_version": "1.5.0",
            "_model_name": "HBoxModel",
            "_view_count": null,
            "_view_module": "@jupyter-widgets/controls",
            "_view_module_version": "1.5.0",
            "_view_name": "HBoxView",
            "box_style": "",
            "children": [
              "IPY_MODEL_e05f91737f574b14aa51d3b656c48977",
              "IPY_MODEL_b067f212cff547a786c445a7259c9867",
              "IPY_MODEL_8f980f3c8c8d438e9a1e8b5c4ca77b32"
            ],
            "layout": "IPY_MODEL_2c8486f90c2e4a32b9dfefb0979afdef"
          }
        },
        "e05f91737f574b14aa51d3b656c48977": {
          "model_module": "@jupyter-widgets/controls",
          "model_name": "HTMLModel",
          "model_module_version": "1.5.0",
          "state": {
            "_dom_classes": [],
            "_model_module": "@jupyter-widgets/controls",
            "_model_module_version": "1.5.0",
            "_model_name": "HTMLModel",
            "_view_count": null,
            "_view_module": "@jupyter-widgets/controls",
            "_view_module_version": "1.5.0",
            "_view_name": "HTMLView",
            "description": "",
            "description_tooltip": null,
            "layout": "IPY_MODEL_7413f264af0a4d47a63c354d9e1579ce",
            "placeholder": "​",
            "style": "IPY_MODEL_b93aace1f113499d81108b1345087b7a",
            "value": "Downloading: 100%"
          }
        },
        "b067f212cff547a786c445a7259c9867": {
          "model_module": "@jupyter-widgets/controls",
          "model_name": "FloatProgressModel",
          "model_module_version": "1.5.0",
          "state": {
            "_dom_classes": [],
            "_model_module": "@jupyter-widgets/controls",
            "_model_module_version": "1.5.0",
            "_model_name": "FloatProgressModel",
            "_view_count": null,
            "_view_module": "@jupyter-widgets/controls",
            "_view_module_version": "1.5.0",
            "_view_name": "ProgressView",
            "bar_style": "success",
            "description": "",
            "description_tooltip": null,
            "layout": "IPY_MODEL_1d0d740323dd4da99301cdb50a8cac92",
            "max": 213450,
            "min": 0,
            "orientation": "horizontal",
            "style": "IPY_MODEL_854d259fbce14b9c9dcaf07cb527dc80",
            "value": 213450
          }
        },
        "8f980f3c8c8d438e9a1e8b5c4ca77b32": {
          "model_module": "@jupyter-widgets/controls",
          "model_name": "HTMLModel",
          "model_module_version": "1.5.0",
          "state": {
            "_dom_classes": [],
            "_model_module": "@jupyter-widgets/controls",
            "_model_module_version": "1.5.0",
            "_model_name": "HTMLModel",
            "_view_count": null,
            "_view_module": "@jupyter-widgets/controls",
            "_view_module_version": "1.5.0",
            "_view_name": "HTMLView",
            "description": "",
            "description_tooltip": null,
            "layout": "IPY_MODEL_abf0a1494b5747069d8ca660c671e908",
            "placeholder": "​",
            "style": "IPY_MODEL_4bdb3debe0d44f0f86c4866cad618c41",
            "value": " 213k/213k [00:00&lt;00:00, 244kB/s]"
          }
        },
        "2c8486f90c2e4a32b9dfefb0979afdef": {
          "model_module": "@jupyter-widgets/base",
          "model_name": "LayoutModel",
          "model_module_version": "1.2.0",
          "state": {
            "_model_module": "@jupyter-widgets/base",
            "_model_module_version": "1.2.0",
            "_model_name": "LayoutModel",
            "_view_count": null,
            "_view_module": "@jupyter-widgets/base",
            "_view_module_version": "1.2.0",
            "_view_name": "LayoutView",
            "align_content": null,
            "align_items": null,
            "align_self": null,
            "border": null,
            "bottom": null,
            "display": null,
            "flex": null,
            "flex_flow": null,
            "grid_area": null,
            "grid_auto_columns": null,
            "grid_auto_flow": null,
            "grid_auto_rows": null,
            "grid_column": null,
            "grid_gap": null,
            "grid_row": null,
            "grid_template_areas": null,
            "grid_template_columns": null,
            "grid_template_rows": null,
            "height": null,
            "justify_content": null,
            "justify_items": null,
            "left": null,
            "margin": null,
            "max_height": null,
            "max_width": null,
            "min_height": null,
            "min_width": null,
            "object_fit": null,
            "object_position": null,
            "order": null,
            "overflow": null,
            "overflow_x": null,
            "overflow_y": null,
            "padding": null,
            "right": null,
            "top": null,
            "visibility": null,
            "width": null
          }
        },
        "7413f264af0a4d47a63c354d9e1579ce": {
          "model_module": "@jupyter-widgets/base",
          "model_name": "LayoutModel",
          "model_module_version": "1.2.0",
          "state": {
            "_model_module": "@jupyter-widgets/base",
            "_model_module_version": "1.2.0",
            "_model_name": "LayoutModel",
            "_view_count": null,
            "_view_module": "@jupyter-widgets/base",
            "_view_module_version": "1.2.0",
            "_view_name": "LayoutView",
            "align_content": null,
            "align_items": null,
            "align_self": null,
            "border": null,
            "bottom": null,
            "display": null,
            "flex": null,
            "flex_flow": null,
            "grid_area": null,
            "grid_auto_columns": null,
            "grid_auto_flow": null,
            "grid_auto_rows": null,
            "grid_column": null,
            "grid_gap": null,
            "grid_row": null,
            "grid_template_areas": null,
            "grid_template_columns": null,
            "grid_template_rows": null,
            "height": null,
            "justify_content": null,
            "justify_items": null,
            "left": null,
            "margin": null,
            "max_height": null,
            "max_width": null,
            "min_height": null,
            "min_width": null,
            "object_fit": null,
            "object_position": null,
            "order": null,
            "overflow": null,
            "overflow_x": null,
            "overflow_y": null,
            "padding": null,
            "right": null,
            "top": null,
            "visibility": null,
            "width": null
          }
        },
        "b93aace1f113499d81108b1345087b7a": {
          "model_module": "@jupyter-widgets/controls",
          "model_name": "DescriptionStyleModel",
          "model_module_version": "1.5.0",
          "state": {
            "_model_module": "@jupyter-widgets/controls",
            "_model_module_version": "1.5.0",
            "_model_name": "DescriptionStyleModel",
            "_view_count": null,
            "_view_module": "@jupyter-widgets/base",
            "_view_module_version": "1.2.0",
            "_view_name": "StyleView",
            "description_width": ""
          }
        },
        "1d0d740323dd4da99301cdb50a8cac92": {
          "model_module": "@jupyter-widgets/base",
          "model_name": "LayoutModel",
          "model_module_version": "1.2.0",
          "state": {
            "_model_module": "@jupyter-widgets/base",
            "_model_module_version": "1.2.0",
            "_model_name": "LayoutModel",
            "_view_count": null,
            "_view_module": "@jupyter-widgets/base",
            "_view_module_version": "1.2.0",
            "_view_name": "LayoutView",
            "align_content": null,
            "align_items": null,
            "align_self": null,
            "border": null,
            "bottom": null,
            "display": null,
            "flex": null,
            "flex_flow": null,
            "grid_area": null,
            "grid_auto_columns": null,
            "grid_auto_flow": null,
            "grid_auto_rows": null,
            "grid_column": null,
            "grid_gap": null,
            "grid_row": null,
            "grid_template_areas": null,
            "grid_template_columns": null,
            "grid_template_rows": null,
            "height": null,
            "justify_content": null,
            "justify_items": null,
            "left": null,
            "margin": null,
            "max_height": null,
            "max_width": null,
            "min_height": null,
            "min_width": null,
            "object_fit": null,
            "object_position": null,
            "order": null,
            "overflow": null,
            "overflow_x": null,
            "overflow_y": null,
            "padding": null,
            "right": null,
            "top": null,
            "visibility": null,
            "width": null
          }
        },
        "854d259fbce14b9c9dcaf07cb527dc80": {
          "model_module": "@jupyter-widgets/controls",
          "model_name": "ProgressStyleModel",
          "model_module_version": "1.5.0",
          "state": {
            "_model_module": "@jupyter-widgets/controls",
            "_model_module_version": "1.5.0",
            "_model_name": "ProgressStyleModel",
            "_view_count": null,
            "_view_module": "@jupyter-widgets/base",
            "_view_module_version": "1.2.0",
            "_view_name": "StyleView",
            "bar_color": null,
            "description_width": ""
          }
        },
        "abf0a1494b5747069d8ca660c671e908": {
          "model_module": "@jupyter-widgets/base",
          "model_name": "LayoutModel",
          "model_module_version": "1.2.0",
          "state": {
            "_model_module": "@jupyter-widgets/base",
            "_model_module_version": "1.2.0",
            "_model_name": "LayoutModel",
            "_view_count": null,
            "_view_module": "@jupyter-widgets/base",
            "_view_module_version": "1.2.0",
            "_view_name": "LayoutView",
            "align_content": null,
            "align_items": null,
            "align_self": null,
            "border": null,
            "bottom": null,
            "display": null,
            "flex": null,
            "flex_flow": null,
            "grid_area": null,
            "grid_auto_columns": null,
            "grid_auto_flow": null,
            "grid_auto_rows": null,
            "grid_column": null,
            "grid_gap": null,
            "grid_row": null,
            "grid_template_areas": null,
            "grid_template_columns": null,
            "grid_template_rows": null,
            "height": null,
            "justify_content": null,
            "justify_items": null,
            "left": null,
            "margin": null,
            "max_height": null,
            "max_width": null,
            "min_height": null,
            "min_width": null,
            "object_fit": null,
            "object_position": null,
            "order": null,
            "overflow": null,
            "overflow_x": null,
            "overflow_y": null,
            "padding": null,
            "right": null,
            "top": null,
            "visibility": null,
            "width": null
          }
        },
        "4bdb3debe0d44f0f86c4866cad618c41": {
          "model_module": "@jupyter-widgets/controls",
          "model_name": "DescriptionStyleModel",
          "model_module_version": "1.5.0",
          "state": {
            "_model_module": "@jupyter-widgets/controls",
            "_model_module_version": "1.5.0",
            "_model_name": "DescriptionStyleModel",
            "_view_count": null,
            "_view_module": "@jupyter-widgets/base",
            "_view_module_version": "1.2.0",
            "_view_name": "StyleView",
            "description_width": ""
          }
        },
        "c6fbc6e109f3410f9a8a5b25d3b92336": {
          "model_module": "@jupyter-widgets/controls",
          "model_name": "HBoxModel",
          "model_module_version": "1.5.0",
          "state": {
            "_dom_classes": [],
            "_model_module": "@jupyter-widgets/controls",
            "_model_module_version": "1.5.0",
            "_model_name": "HBoxModel",
            "_view_count": null,
            "_view_module": "@jupyter-widgets/controls",
            "_view_module_version": "1.5.0",
            "_view_name": "HBoxView",
            "box_style": "",
            "children": [
              "IPY_MODEL_8ae385dd0f614772b720e3c530996d4d",
              "IPY_MODEL_3b3b5fe09c404e8986a27bda6deed91a",
              "IPY_MODEL_ed0365e0e83b40ab98f9f56743b58893"
            ],
            "layout": "IPY_MODEL_d59e36d17d014d6ea7432e88203f147a"
          }
        },
        "8ae385dd0f614772b720e3c530996d4d": {
          "model_module": "@jupyter-widgets/controls",
          "model_name": "HTMLModel",
          "model_module_version": "1.5.0",
          "state": {
            "_dom_classes": [],
            "_model_module": "@jupyter-widgets/controls",
            "_model_module_version": "1.5.0",
            "_model_name": "HTMLModel",
            "_view_count": null,
            "_view_module": "@jupyter-widgets/controls",
            "_view_module_version": "1.5.0",
            "_view_name": "HTMLView",
            "description": "",
            "description_tooltip": null,
            "layout": "IPY_MODEL_77ec7059dd87412a8de60c9d781b8fe9",
            "placeholder": "​",
            "style": "IPY_MODEL_53e59613363545efa8adcd4ea4838b2f",
            "value": "Downloading: 100%"
          }
        },
        "3b3b5fe09c404e8986a27bda6deed91a": {
          "model_module": "@jupyter-widgets/controls",
          "model_name": "FloatProgressModel",
          "model_module_version": "1.5.0",
          "state": {
            "_dom_classes": [],
            "_model_module": "@jupyter-widgets/controls",
            "_model_module_version": "1.5.0",
            "_model_name": "FloatProgressModel",
            "_view_count": null,
            "_view_module": "@jupyter-widgets/controls",
            "_view_module_version": "1.5.0",
            "_view_name": "ProgressView",
            "bar_style": "success",
            "description": "",
            "description_tooltip": null,
            "layout": "IPY_MODEL_d036982e3bdf4475a99f5632370c9197",
            "max": 385,
            "min": 0,
            "orientation": "horizontal",
            "style": "IPY_MODEL_e4bbcd1114094ee78a229ca9f80b7730",
            "value": 385
          }
        },
        "ed0365e0e83b40ab98f9f56743b58893": {
          "model_module": "@jupyter-widgets/controls",
          "model_name": "HTMLModel",
          "model_module_version": "1.5.0",
          "state": {
            "_dom_classes": [],
            "_model_module": "@jupyter-widgets/controls",
            "_model_module_version": "1.5.0",
            "_model_name": "HTMLModel",
            "_view_count": null,
            "_view_module": "@jupyter-widgets/controls",
            "_view_module_version": "1.5.0",
            "_view_name": "HTMLView",
            "description": "",
            "description_tooltip": null,
            "layout": "IPY_MODEL_61484c4a27434e71bb124ddc8c122f0c",
            "placeholder": "​",
            "style": "IPY_MODEL_e4d23b26ca6547c292d64c52637b8889",
            "value": " 385/385 [00:00&lt;00:00, 3.54kB/s]"
          }
        },
        "d59e36d17d014d6ea7432e88203f147a": {
          "model_module": "@jupyter-widgets/base",
          "model_name": "LayoutModel",
          "model_module_version": "1.2.0",
          "state": {
            "_model_module": "@jupyter-widgets/base",
            "_model_module_version": "1.2.0",
            "_model_name": "LayoutModel",
            "_view_count": null,
            "_view_module": "@jupyter-widgets/base",
            "_view_module_version": "1.2.0",
            "_view_name": "LayoutView",
            "align_content": null,
            "align_items": null,
            "align_self": null,
            "border": null,
            "bottom": null,
            "display": null,
            "flex": null,
            "flex_flow": null,
            "grid_area": null,
            "grid_auto_columns": null,
            "grid_auto_flow": null,
            "grid_auto_rows": null,
            "grid_column": null,
            "grid_gap": null,
            "grid_row": null,
            "grid_template_areas": null,
            "grid_template_columns": null,
            "grid_template_rows": null,
            "height": null,
            "justify_content": null,
            "justify_items": null,
            "left": null,
            "margin": null,
            "max_height": null,
            "max_width": null,
            "min_height": null,
            "min_width": null,
            "object_fit": null,
            "object_position": null,
            "order": null,
            "overflow": null,
            "overflow_x": null,
            "overflow_y": null,
            "padding": null,
            "right": null,
            "top": null,
            "visibility": null,
            "width": null
          }
        },
        "77ec7059dd87412a8de60c9d781b8fe9": {
          "model_module": "@jupyter-widgets/base",
          "model_name": "LayoutModel",
          "model_module_version": "1.2.0",
          "state": {
            "_model_module": "@jupyter-widgets/base",
            "_model_module_version": "1.2.0",
            "_model_name": "LayoutModel",
            "_view_count": null,
            "_view_module": "@jupyter-widgets/base",
            "_view_module_version": "1.2.0",
            "_view_name": "LayoutView",
            "align_content": null,
            "align_items": null,
            "align_self": null,
            "border": null,
            "bottom": null,
            "display": null,
            "flex": null,
            "flex_flow": null,
            "grid_area": null,
            "grid_auto_columns": null,
            "grid_auto_flow": null,
            "grid_auto_rows": null,
            "grid_column": null,
            "grid_gap": null,
            "grid_row": null,
            "grid_template_areas": null,
            "grid_template_columns": null,
            "grid_template_rows": null,
            "height": null,
            "justify_content": null,
            "justify_items": null,
            "left": null,
            "margin": null,
            "max_height": null,
            "max_width": null,
            "min_height": null,
            "min_width": null,
            "object_fit": null,
            "object_position": null,
            "order": null,
            "overflow": null,
            "overflow_x": null,
            "overflow_y": null,
            "padding": null,
            "right": null,
            "top": null,
            "visibility": null,
            "width": null
          }
        },
        "53e59613363545efa8adcd4ea4838b2f": {
          "model_module": "@jupyter-widgets/controls",
          "model_name": "DescriptionStyleModel",
          "model_module_version": "1.5.0",
          "state": {
            "_model_module": "@jupyter-widgets/controls",
            "_model_module_version": "1.5.0",
            "_model_name": "DescriptionStyleModel",
            "_view_count": null,
            "_view_module": "@jupyter-widgets/base",
            "_view_module_version": "1.2.0",
            "_view_name": "StyleView",
            "description_width": ""
          }
        },
        "d036982e3bdf4475a99f5632370c9197": {
          "model_module": "@jupyter-widgets/base",
          "model_name": "LayoutModel",
          "model_module_version": "1.2.0",
          "state": {
            "_model_module": "@jupyter-widgets/base",
            "_model_module_version": "1.2.0",
            "_model_name": "LayoutModel",
            "_view_count": null,
            "_view_module": "@jupyter-widgets/base",
            "_view_module_version": "1.2.0",
            "_view_name": "LayoutView",
            "align_content": null,
            "align_items": null,
            "align_self": null,
            "border": null,
            "bottom": null,
            "display": null,
            "flex": null,
            "flex_flow": null,
            "grid_area": null,
            "grid_auto_columns": null,
            "grid_auto_flow": null,
            "grid_auto_rows": null,
            "grid_column": null,
            "grid_gap": null,
            "grid_row": null,
            "grid_template_areas": null,
            "grid_template_columns": null,
            "grid_template_rows": null,
            "height": null,
            "justify_content": null,
            "justify_items": null,
            "left": null,
            "margin": null,
            "max_height": null,
            "max_width": null,
            "min_height": null,
            "min_width": null,
            "object_fit": null,
            "object_position": null,
            "order": null,
            "overflow": null,
            "overflow_x": null,
            "overflow_y": null,
            "padding": null,
            "right": null,
            "top": null,
            "visibility": null,
            "width": null
          }
        },
        "e4bbcd1114094ee78a229ca9f80b7730": {
          "model_module": "@jupyter-widgets/controls",
          "model_name": "ProgressStyleModel",
          "model_module_version": "1.5.0",
          "state": {
            "_model_module": "@jupyter-widgets/controls",
            "_model_module_version": "1.5.0",
            "_model_name": "ProgressStyleModel",
            "_view_count": null,
            "_view_module": "@jupyter-widgets/base",
            "_view_module_version": "1.2.0",
            "_view_name": "StyleView",
            "bar_color": null,
            "description_width": ""
          }
        },
        "61484c4a27434e71bb124ddc8c122f0c": {
          "model_module": "@jupyter-widgets/base",
          "model_name": "LayoutModel",
          "model_module_version": "1.2.0",
          "state": {
            "_model_module": "@jupyter-widgets/base",
            "_model_module_version": "1.2.0",
            "_model_name": "LayoutModel",
            "_view_count": null,
            "_view_module": "@jupyter-widgets/base",
            "_view_module_version": "1.2.0",
            "_view_name": "LayoutView",
            "align_content": null,
            "align_items": null,
            "align_self": null,
            "border": null,
            "bottom": null,
            "display": null,
            "flex": null,
            "flex_flow": null,
            "grid_area": null,
            "grid_auto_columns": null,
            "grid_auto_flow": null,
            "grid_auto_rows": null,
            "grid_column": null,
            "grid_gap": null,
            "grid_row": null,
            "grid_template_areas": null,
            "grid_template_columns": null,
            "grid_template_rows": null,
            "height": null,
            "justify_content": null,
            "justify_items": null,
            "left": null,
            "margin": null,
            "max_height": null,
            "max_width": null,
            "min_height": null,
            "min_width": null,
            "object_fit": null,
            "object_position": null,
            "order": null,
            "overflow": null,
            "overflow_x": null,
            "overflow_y": null,
            "padding": null,
            "right": null,
            "top": null,
            "visibility": null,
            "width": null
          }
        },
        "e4d23b26ca6547c292d64c52637b8889": {
          "model_module": "@jupyter-widgets/controls",
          "model_name": "DescriptionStyleModel",
          "model_module_version": "1.5.0",
          "state": {
            "_model_module": "@jupyter-widgets/controls",
            "_model_module_version": "1.5.0",
            "_model_name": "DescriptionStyleModel",
            "_view_count": null,
            "_view_module": "@jupyter-widgets/base",
            "_view_module_version": "1.2.0",
            "_view_name": "StyleView",
            "description_width": ""
          }
        },
        "b9c74ffdf84841c38a8d559725e239b0": {
          "model_module": "@jupyter-widgets/controls",
          "model_name": "HBoxModel",
          "model_module_version": "1.5.0",
          "state": {
            "_dom_classes": [],
            "_model_module": "@jupyter-widgets/controls",
            "_model_module_version": "1.5.0",
            "_model_name": "HBoxModel",
            "_view_count": null,
            "_view_module": "@jupyter-widgets/controls",
            "_view_module_version": "1.5.0",
            "_view_name": "HBoxView",
            "box_style": "",
            "children": [
              "IPY_MODEL_11b1c8d789464a9abcef81579259ef3d",
              "IPY_MODEL_31e13dfbebdd425083c966005e6779cd",
              "IPY_MODEL_332b899fcf174f08b48ddd24e21b2274"
            ],
            "layout": "IPY_MODEL_f6b3efe066ec40dbabdf43adde83e120"
          }
        },
        "11b1c8d789464a9abcef81579259ef3d": {
          "model_module": "@jupyter-widgets/controls",
          "model_name": "HTMLModel",
          "model_module_version": "1.5.0",
          "state": {
            "_dom_classes": [],
            "_model_module": "@jupyter-widgets/controls",
            "_model_module_version": "1.5.0",
            "_model_name": "HTMLModel",
            "_view_count": null,
            "_view_module": "@jupyter-widgets/controls",
            "_view_module_version": "1.5.0",
            "_view_name": "HTMLView",
            "description": "",
            "description_tooltip": null,
            "layout": "IPY_MODEL_e55d58b7c19f4e3c8bfd02917d08d410",
            "placeholder": "​",
            "style": "IPY_MODEL_6ef98b9aab444956bc1f4ec6250890a3",
            "value": "Downloading: 100%"
          }
        },
        "31e13dfbebdd425083c966005e6779cd": {
          "model_module": "@jupyter-widgets/controls",
          "model_name": "FloatProgressModel",
          "model_module_version": "1.5.0",
          "state": {
            "_dom_classes": [],
            "_model_module": "@jupyter-widgets/controls",
            "_model_module_version": "1.5.0",
            "_model_name": "FloatProgressModel",
            "_view_count": null,
            "_view_module": "@jupyter-widgets/controls",
            "_view_module_version": "1.5.0",
            "_view_name": "ProgressView",
            "bar_style": "success",
            "description": "",
            "description_tooltip": null,
            "layout": "IPY_MODEL_b0594aa9d450474a9f4389f53ce43032",
            "max": 435778770,
            "min": 0,
            "orientation": "horizontal",
            "style": "IPY_MODEL_3eacb2f5f197445aaa37a02d575434a5",
            "value": 435778770
          }
        },
        "332b899fcf174f08b48ddd24e21b2274": {
          "model_module": "@jupyter-widgets/controls",
          "model_name": "HTMLModel",
          "model_module_version": "1.5.0",
          "state": {
            "_dom_classes": [],
            "_model_module": "@jupyter-widgets/controls",
            "_model_module_version": "1.5.0",
            "_model_name": "HTMLModel",
            "_view_count": null,
            "_view_module": "@jupyter-widgets/controls",
            "_view_module_version": "1.5.0",
            "_view_name": "HTMLView",
            "description": "",
            "description_tooltip": null,
            "layout": "IPY_MODEL_9f59d19a0f9d4bc3a000b03ed3ddb4a7",
            "placeholder": "​",
            "style": "IPY_MODEL_0938404a6609400880294d3c3bf42ddf",
            "value": " 436M/436M [00:17&lt;00:00, 23.6MB/s]"
          }
        },
        "f6b3efe066ec40dbabdf43adde83e120": {
          "model_module": "@jupyter-widgets/base",
          "model_name": "LayoutModel",
          "model_module_version": "1.2.0",
          "state": {
            "_model_module": "@jupyter-widgets/base",
            "_model_module_version": "1.2.0",
            "_model_name": "LayoutModel",
            "_view_count": null,
            "_view_module": "@jupyter-widgets/base",
            "_view_module_version": "1.2.0",
            "_view_name": "LayoutView",
            "align_content": null,
            "align_items": null,
            "align_self": null,
            "border": null,
            "bottom": null,
            "display": null,
            "flex": null,
            "flex_flow": null,
            "grid_area": null,
            "grid_auto_columns": null,
            "grid_auto_flow": null,
            "grid_auto_rows": null,
            "grid_column": null,
            "grid_gap": null,
            "grid_row": null,
            "grid_template_areas": null,
            "grid_template_columns": null,
            "grid_template_rows": null,
            "height": null,
            "justify_content": null,
            "justify_items": null,
            "left": null,
            "margin": null,
            "max_height": null,
            "max_width": null,
            "min_height": null,
            "min_width": null,
            "object_fit": null,
            "object_position": null,
            "order": null,
            "overflow": null,
            "overflow_x": null,
            "overflow_y": null,
            "padding": null,
            "right": null,
            "top": null,
            "visibility": null,
            "width": null
          }
        },
        "e55d58b7c19f4e3c8bfd02917d08d410": {
          "model_module": "@jupyter-widgets/base",
          "model_name": "LayoutModel",
          "model_module_version": "1.2.0",
          "state": {
            "_model_module": "@jupyter-widgets/base",
            "_model_module_version": "1.2.0",
            "_model_name": "LayoutModel",
            "_view_count": null,
            "_view_module": "@jupyter-widgets/base",
            "_view_module_version": "1.2.0",
            "_view_name": "LayoutView",
            "align_content": null,
            "align_items": null,
            "align_self": null,
            "border": null,
            "bottom": null,
            "display": null,
            "flex": null,
            "flex_flow": null,
            "grid_area": null,
            "grid_auto_columns": null,
            "grid_auto_flow": null,
            "grid_auto_rows": null,
            "grid_column": null,
            "grid_gap": null,
            "grid_row": null,
            "grid_template_areas": null,
            "grid_template_columns": null,
            "grid_template_rows": null,
            "height": null,
            "justify_content": null,
            "justify_items": null,
            "left": null,
            "margin": null,
            "max_height": null,
            "max_width": null,
            "min_height": null,
            "min_width": null,
            "object_fit": null,
            "object_position": null,
            "order": null,
            "overflow": null,
            "overflow_x": null,
            "overflow_y": null,
            "padding": null,
            "right": null,
            "top": null,
            "visibility": null,
            "width": null
          }
        },
        "6ef98b9aab444956bc1f4ec6250890a3": {
          "model_module": "@jupyter-widgets/controls",
          "model_name": "DescriptionStyleModel",
          "model_module_version": "1.5.0",
          "state": {
            "_model_module": "@jupyter-widgets/controls",
            "_model_module_version": "1.5.0",
            "_model_name": "DescriptionStyleModel",
            "_view_count": null,
            "_view_module": "@jupyter-widgets/base",
            "_view_module_version": "1.2.0",
            "_view_name": "StyleView",
            "description_width": ""
          }
        },
        "b0594aa9d450474a9f4389f53ce43032": {
          "model_module": "@jupyter-widgets/base",
          "model_name": "LayoutModel",
          "model_module_version": "1.2.0",
          "state": {
            "_model_module": "@jupyter-widgets/base",
            "_model_module_version": "1.2.0",
            "_model_name": "LayoutModel",
            "_view_count": null,
            "_view_module": "@jupyter-widgets/base",
            "_view_module_version": "1.2.0",
            "_view_name": "LayoutView",
            "align_content": null,
            "align_items": null,
            "align_self": null,
            "border": null,
            "bottom": null,
            "display": null,
            "flex": null,
            "flex_flow": null,
            "grid_area": null,
            "grid_auto_columns": null,
            "grid_auto_flow": null,
            "grid_auto_rows": null,
            "grid_column": null,
            "grid_gap": null,
            "grid_row": null,
            "grid_template_areas": null,
            "grid_template_columns": null,
            "grid_template_rows": null,
            "height": null,
            "justify_content": null,
            "justify_items": null,
            "left": null,
            "margin": null,
            "max_height": null,
            "max_width": null,
            "min_height": null,
            "min_width": null,
            "object_fit": null,
            "object_position": null,
            "order": null,
            "overflow": null,
            "overflow_x": null,
            "overflow_y": null,
            "padding": null,
            "right": null,
            "top": null,
            "visibility": null,
            "width": null
          }
        },
        "3eacb2f5f197445aaa37a02d575434a5": {
          "model_module": "@jupyter-widgets/controls",
          "model_name": "ProgressStyleModel",
          "model_module_version": "1.5.0",
          "state": {
            "_model_module": "@jupyter-widgets/controls",
            "_model_module_version": "1.5.0",
            "_model_name": "ProgressStyleModel",
            "_view_count": null,
            "_view_module": "@jupyter-widgets/base",
            "_view_module_version": "1.2.0",
            "_view_name": "StyleView",
            "bar_color": null,
            "description_width": ""
          }
        },
        "9f59d19a0f9d4bc3a000b03ed3ddb4a7": {
          "model_module": "@jupyter-widgets/base",
          "model_name": "LayoutModel",
          "model_module_version": "1.2.0",
          "state": {
            "_model_module": "@jupyter-widgets/base",
            "_model_module_version": "1.2.0",
            "_model_name": "LayoutModel",
            "_view_count": null,
            "_view_module": "@jupyter-widgets/base",
            "_view_module_version": "1.2.0",
            "_view_name": "LayoutView",
            "align_content": null,
            "align_items": null,
            "align_self": null,
            "border": null,
            "bottom": null,
            "display": null,
            "flex": null,
            "flex_flow": null,
            "grid_area": null,
            "grid_auto_columns": null,
            "grid_auto_flow": null,
            "grid_auto_rows": null,
            "grid_column": null,
            "grid_gap": null,
            "grid_row": null,
            "grid_template_areas": null,
            "grid_template_columns": null,
            "grid_template_rows": null,
            "height": null,
            "justify_content": null,
            "justify_items": null,
            "left": null,
            "margin": null,
            "max_height": null,
            "max_width": null,
            "min_height": null,
            "min_width": null,
            "object_fit": null,
            "object_position": null,
            "order": null,
            "overflow": null,
            "overflow_x": null,
            "overflow_y": null,
            "padding": null,
            "right": null,
            "top": null,
            "visibility": null,
            "width": null
          }
        },
        "0938404a6609400880294d3c3bf42ddf": {
          "model_module": "@jupyter-widgets/controls",
          "model_name": "DescriptionStyleModel",
          "model_module_version": "1.5.0",
          "state": {
            "_model_module": "@jupyter-widgets/controls",
            "_model_module_version": "1.5.0",
            "_model_name": "DescriptionStyleModel",
            "_view_count": null,
            "_view_module": "@jupyter-widgets/base",
            "_view_module_version": "1.2.0",
            "_view_name": "StyleView",
            "description_width": ""
          }
        }
      }
    }
  },
  "nbformat": 4,
  "nbformat_minor": 0
}